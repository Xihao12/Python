{
 "cells": [
  {
   "metadata": {},
   "cell_type": "markdown",
   "source": "# Project-Hacking the Fender",
   "id": "79617536476f6217"
  },
  {
   "metadata": {},
   "cell_type": "markdown",
   "source": "",
   "id": "c17e68464d34208e"
  },
  {
   "metadata": {
    "collapsed": true,
    "ExecuteTime": {
     "end_time": "2025-10-12T09:22:16.545087Z",
     "start_time": "2025-10-12T09:22:16.534999Z"
    }
   },
   "cell_type": "code",
   "outputs": [],
   "execution_count": 26,
   "source": [
    "import csv\n",
    "\n",
    "compromised_users = []\n",
    "\n",
    "with open(\"passwords.csv\", encoding=\"utf-8-sig\") as password_file:\n",
    "\n",
    "    password_csv = csv.DictReader(password_file)\n",
    "    for password_row in password_csv:\n",
    "        compromised_users.append(password_row['Username'])\n",
    "\n",
    "with open(\"compromised_users.txt\",\"w\") as compromised_user_file:\n",
    "\n",
    "    for user in compromised_users:\n",
    "        compromised_user_file.write(user + \"\\n\")\n"
   ],
   "id": "8bd2fd46d527cfea"
  },
  {
   "metadata": {},
   "cell_type": "markdown",
   "source": [
    "Checkpoint-12:Your boss needs to know that you were successful in retrieving that compromised data. We’ll need to send him an encoded message over the internet. Let’s use JSON to do that.\n",
    "\n",
    "First we’ll need to import the json module.\n",
    "\n",
    "Checkpoint-13:\n",
    "Open a new JSON file in write-mode called boss_message.json. Save the file object to the variable boss_message.\n",
    "\n",
    "Checkpoint-14:Create a Python dictionary object within your with statement that relays a boss message. Call this boss_message_dict.\n",
    "\n",
    "Give it a \"recipient\" key with a value \"The Boss\".\n",
    "\n",
    "Also give it a \"message\" key with the value \"Mission Success\".\n",
    "\n",
    "Checkpoint-15:Write out boss_message_dict to boss_message using json.dump()."
   ],
   "id": "1053d965a8006109"
  },
  {
   "metadata": {
    "ExecuteTime": {
     "end_time": "2025-10-12T09:56:56.122467Z",
     "start_time": "2025-10-12T09:56:56.110378Z"
    }
   },
   "cell_type": "code",
   "source": [
    "import json\n",
    "\n",
    "with open('boss_message,json','w') as boss_message:\n",
    "    boss_message_dict = {\"recipient\":\"Boss\",\"message\":\"Mission Success\"}\n",
    "\n",
    "    json.dump(boss_message_dict,boss_message)"
   ],
   "id": "b6205b7474c553f0",
   "outputs": [],
   "execution_count": 27
  },
  {
   "metadata": {},
   "cell_type": "markdown",
   "source": [
    "Now that we’ve safely recovered the compromised users we’ll want to remove the \"passwords.csv\" file completely.\n",
    "\n",
    "Create a new with block and open \"new_passwords.csv\" in write-mode. Save the file object to a variable called new_passwords_obj.\n",
    "\n",
    "\n",
    "Enemy of the people, Slash Null, is who we want The Fender to think was behind this attack. He has a signature, whenever he hacks someone he adds this signature to one of the files he touches. Here is the signature:\n",
    "\n",
    "\n",
    "\n",
    "Save that as a multiline string to the variable slash_null_sig.\n",
    "\n",
    "\n",
    "Write slash_null_sig to new_passwords_obj. Now we have the file to replace passwords.csv with!\n",
    "\n",
    "\n",
    "What an incredible success! We’ll take care of moving the new passwords file over the old one in case you want to practice hacking The Fender in the future.\n",
    "\n",
    "Thank you for your service, programmer."
   ],
   "id": "829adf655089ea33"
  },
  {
   "metadata": {
    "ExecuteTime": {
     "end_time": "2025-10-12T14:50:41.864906Z",
     "start_time": "2025-10-12T14:50:41.856932Z"
    }
   },
   "cell_type": "code",
   "source": [
    "import csv\n",
    "# This is Slash Null's signature, stored as a multiline string.\n",
    "slash_null_sig = \"\"\"\n",
    " _  _    ___   __  ____\n",
    "/ )( \\  / __) /  \\(_  _)\n",
    ") \\/ ( ( (_ \\(  O ) )(\n",
    "\\____/  \\___/ \\__/ (__)\n",
    " _  _   __    ___  __ _  ____  ____\n",
    "/ )( \\ / _\\  / __)(  / )(  __)(    \\\n",
    ") __ (/    \\( (__  )  (  ) _)  ) D (\n",
    "\\_)(_/\\_/\\_/ \\___)(__\\_)(____)(____/\n",
    "        ____  __    __   ____  _  _\n",
    " ___   / ___)(  )  / _\\ / ___)/ )( \\\n",
    "(___)  \\___ \\/ (_/\\/    \\\\___ \\) __ (\n",
    "       (____/\\____/\\_/\\_/(____/\\_)(_/\n",
    " __ _  _  _  __    __\n",
    "(  ( \\/ )( \\(  )  (  )\n",
    "/    /) \\/ (/ (_/\\/ (_/\\\n",
    "\\_)__)\\____/\\____/\\____/\n",
    "\"\"\"\n",
    "\n",
    "# Open a new file called \"new_passwords.csv\" in write-mode.\n",
    "with open(\"new_passwords.csv\", \"w\") as new_passwords_obj:\n",
    "    # Write the signature to the new file.\n",
    "    new_passwords_obj.write(slash_null_sig)\n",
    "\n",
    "# The file is now created and contains the signature.\n",
    "# The 'with' block automatically closes the file."
   ],
   "id": "39273039d5af2ca0",
   "outputs": [
    {
     "name": "stderr",
     "output_type": "stream",
     "text": [
      "<>:5: SyntaxWarning: invalid escape sequence '\\ '\n",
      "<>:5: SyntaxWarning: invalid escape sequence '\\ '\n",
      "C:\\Users\\xih_y\\AppData\\Local\\Temp\\ipykernel_74672\\672388365.py:5: SyntaxWarning: invalid escape sequence '\\ '\n",
      "  / )( \\  / __) /  \\(_  _)\n"
     ]
    }
   ],
   "execution_count": 30
  },
  {
   "metadata": {},
   "cell_type": "code",
   "outputs": [],
   "execution_count": null,
   "source": "",
   "id": "28243d0c1eea2f9c"
  }
 ],
 "metadata": {
  "kernelspec": {
   "display_name": "Python 3",
   "language": "python",
   "name": "python3"
  },
  "language_info": {
   "codemirror_mode": {
    "name": "ipython",
    "version": 2
   },
   "file_extension": ".py",
   "mimetype": "text/x-python",
   "name": "python",
   "nbconvert_exporter": "python",
   "pygments_lexer": "ipython2",
   "version": "2.7.6"
  }
 },
 "nbformat": 4,
 "nbformat_minor": 5
}
